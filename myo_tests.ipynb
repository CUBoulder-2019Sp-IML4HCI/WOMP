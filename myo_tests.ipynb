{
 "cells": [
  {
   "cell_type": "markdown",
   "metadata": {},
   "source": [
    "# Testing Myo Connection"
   ]
  },
  {
   "cell_type": "code",
   "execution_count": 3,
   "metadata": {},
   "outputs": [],
   "source": [
    "from myo import *\n",
    "import struct\n",
    "import binascii"
   ]
  },
  {
   "cell_type": "code",
   "execution_count": 4,
   "metadata": {
    "scrolled": true
   },
   "outputs": [
    {
     "name": "stdout",
     "output_type": "stream",
     "text": [
      "available BT adapter: /dev/cu.usbmodem1\n",
      "Scanning for Myos...\n",
      "Found a Myo: SVERM4 MAC: f4:0f:df:81:1e:1b\n",
      "Connecting to Myo: f4:0f:df:81:1e:1b\n",
      "Packet(00, 06, 03, [00 00 00])\n",
      "Myo Connected.\n",
      "name: SVERM4\n",
      "firmware: 1.5.1970.2\n"
     ]
    }
   ],
   "source": [
    "def proc_imu(quat, acc, gyro):\n",
    "    print(\"quat:\", quat, end='\\r')\n",
    "    \n",
    "def proc_emg(em_data):\n",
    "    print(\"emg:\", em_data)\n",
    "\n",
    "\n",
    "m = Myo()\n",
    "m.add_emg_handler(proc_emg)\n",
    "m.connect()\n"
   ]
  },
  {
   "cell_type": "code",
   "execution_count": null,
   "metadata": {},
   "outputs": [],
   "source": [
    "m.set_mode(EMG_Mode.send_emg.value, IMU_Mode.send_data.value, Classifier_Mode.disabled.value)"
   ]
  },
  {
   "cell_type": "code",
   "execution_count": null,
   "metadata": {
    "scrolled": false
   },
   "outputs": [],
   "source": [
    "m.disconnect()"
   ]
  },
  {
   "cell_type": "code",
   "execution_count": null,
   "metadata": {},
   "outputs": [],
   "source": [
    "addr = discover_myos(m.bt)"
   ]
  },
  {
   "cell_type": "code",
   "execution_count": null,
   "metadata": {
    "scrolled": true
   },
   "outputs": [],
   "source": [
    "a = m.read_attr(0x0).payload"
   ]
  },
  {
   "cell_type": "code",
   "execution_count": null,
   "metadata": {},
   "outputs": [],
   "source": [
    "#m.add_arm_handler(lambda arm, xdir: print('arm', arm, 'xdir', xdir, end='\\r'))\n",
    "#m.add_pose_handler(lambda p: print('pose', p, end='\\r'))\n",
    "# m.add_imu_handler(lambda quat, acc, gyro: print('quaternion', quat))\n",
    "m.sleep_mode(1)\n",
    "#m.set_leds([128, 128, 255], [128, 128, 255])  # purple logo and bar LEDs\n",
    "m.vibrate(1)"
   ]
  }
 ],
 "metadata": {
  "kernelspec": {
   "display_name": "Python 3",
   "language": "python",
   "name": "python3"
  },
  "language_info": {
   "codemirror_mode": {
    "name": "ipython",
    "version": 3
   },
   "file_extension": ".py",
   "mimetype": "text/x-python",
   "name": "python",
   "nbconvert_exporter": "python",
   "pygments_lexer": "ipython3",
   "version": "3.6.2"
  }
 },
 "nbformat": 4,
 "nbformat_minor": 2
}
