{
 "cells": [
  {
   "cell_type": "markdown",
   "metadata": {},
   "source": [
    "# Testing Myo Connection"
   ]
  },
  {
   "cell_type": "code",
   "execution_count": 2,
   "metadata": {
    "ExecuteTime": {
     "end_time": "2019-02-13T20:35:50.001205Z",
     "start_time": "2019-02-13T20:35:49.984115Z"
    }
   },
   "outputs": [],
   "source": [
    "from myo import *\n",
    "import struct\n",
    "import binascii"
   ]
  },
  {
   "cell_type": "code",
   "execution_count": 4,
   "metadata": {
    "ExecuteTime": {
     "end_time": "2019-02-13T20:36:10.629650Z",
     "start_time": "2019-02-13T20:36:09.607354Z"
    },
    "scrolled": true
   },
   "outputs": [
    {
     "name": "stdout",
     "output_type": "stream",
     "text": [
      "available BT adapter: /dev/cu.usbmodem11\n",
      "Discovering available Myos...\n",
      "No Myos found to connect to.\n",
      "Not connected.\n"
     ]
    }
   ],
   "source": [
    "def proc_imu(quat, acc, gyro):\n",
    "    print(\"quat:\", quat, end='\\r')\n",
    "    \n",
    "def proc_emg(em_data):\n",
    "    print(\"emg:\", em_data)\n",
    "\n",
    "\n",
    "m = Myo()\n",
    "m.add_emg_handler(proc_emg)\n",
    "m.connect()\n"
   ]
  },
  {
   "cell_type": "code",
   "execution_count": null,
   "metadata": {},
   "outputs": [],
   "source": [
    "m.set_mode(EMG_Mode.send_emg.value, IMU_Mode.send_data.value, Classifier_Mode.disabled.value)"
   ]
  },
  {
   "cell_type": "code",
   "execution_count": null,
   "metadata": {
    "scrolled": false
   },
   "outputs": [],
   "source": [
    "m.disconnect()"
   ]
  },
  {
   "cell_type": "code",
   "execution_count": null,
   "metadata": {},
   "outputs": [],
   "source": [
    "addr = discover_myos(m.bt)"
   ]
  },
  {
   "cell_type": "code",
   "execution_count": null,
   "metadata": {
    "scrolled": true
   },
   "outputs": [],
   "source": [
    "a = m.read_attr(0x0).payload"
   ]
  },
  {
   "cell_type": "code",
   "execution_count": null,
   "metadata": {},
   "outputs": [],
   "source": [
    "#m.add_arm_handler(lambda arm, xdir: print('arm', arm, 'xdir', xdir, end='\\r'))\n",
    "#m.add_pose_handler(lambda p: print('pose', p, end='\\r'))\n",
    "# m.add_imu_handler(lambda quat, acc, gyro: print('quaternion', quat))\n",
    "m.sleep_mode(1)\n",
    "#m.set_leds([128, 128, 255], [128, 128, 255])  # purple logo and bar LEDs\n",
    "m.vibrate(1)"
   ]
  }
 ],
 "metadata": {
  "kernelspec": {
   "display_name": "Python 3",
   "language": "python",
   "name": "python3"
  },
  "language_info": {
   "codemirror_mode": {
    "name": "ipython",
    "version": 3
   },
   "file_extension": ".py",
   "mimetype": "text/x-python",
   "name": "python",
   "nbconvert_exporter": "python",
   "pygments_lexer": "ipython3",
   "version": "3.6.5"
  }
 },
 "nbformat": 4,
 "nbformat_minor": 2
}
